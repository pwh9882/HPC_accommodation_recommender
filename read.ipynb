{
 "cells": [
  {
   "cell_type": "code",
   "execution_count": 1,
   "metadata": {},
   "outputs": [],
   "source": [
    "import pandas as pd\n",
    "\n",
    "\n",
    "file_path = \"/Users/woohyeok/development/LLM_bootcamp/day4/HPC_accommodation_recommender/hotels.csv\"\n",
    "df = pd.read_csv(file_path, encoding='latin1')"
   ]
  },
  {
   "cell_type": "code",
   "execution_count": 2,
   "metadata": {},
   "outputs": [
    {
     "name": "stdout",
     "output_type": "stream",
     "text": [
      "  countyCode  countyName   cityCode  cityName   HotelCode       HotelName  \\\n",
      "0         AL     Albania     106078  Albanien     1003300  De Paris Hotel   \n",
      "1         AL     Albania     106078  Albanien     1003301     Hotel Green   \n",
      "2         AL     Albania     106078  Albanien     1003302  Theranda Hotel   \n",
      "3         AL     Albania     106078  Albanien     1003303     Seven Hotel   \n",
      "4         AL     Albania     106078  Albanien     1003325        Viktoria   \n",
      "\n",
      "   HotelRating                                            Address  \\\n",
      "0     FourStar                  Nr. 7 Brigada Viii Street Tirane    \n",
      "1     FourStar  Rruga Kavajes. Kombinat Km 2. Vaqarr VaqarrTir...   \n",
      "2    ThreeStar  Rr. Andon Zako Cajupi Villa 6 & 7 Villa 6 & 7T...   \n",
      "3    ThreeStar       KAVAJA STREET, CLOSE TURKISH AMBASSY TIRANA    \n",
      "4    ThreeStar            Rruga E Elbasanit Km 4 Sauk SaukTirana    \n",
      "\n",
      "                            Attractions  \\\n",
      "0                                   NaN   \n",
      "1                                   NaN   \n",
      "2                                   NaN   \n",
      "3  Skanderbeg Square: within 500 metre    \n",
      "4                                   NaN   \n",
      "\n",
      "                                         Description          FaxNumber  \\\n",
      "0  Hotel de Paris is a charming boutique hotel th...           42268822   \n",
      "1  Located in a suburb of Tirana, Hotel Green is ...        35548520058   \n",
      "2  Set in Tirana, 1.2 km from Skanderbeg Square, ...  00355 (0)42273689   \n",
      "3  This hotel enjoys an enviable setting in Tiran...                NaN   \n",
      "4  Located in a new residential area at the edge ...      +355695406986   \n",
      "\n",
      "                                     HotelFacilities                  Map  \\\n",
      "0  Private parking Parking onsite Television in c...    41.32213|19.81665   \n",
      "1  airport pick up wifi available in all areas Ai...    41.30413|19.74703   \n",
      "2  face masks for guests available all plates  cu...     41.3216|19.81199   \n",
      "3  À la carte dinner Breakfast buffet Breakfast C...  41.328027|19.815052   \n",
      "4  internet services Ironing service Family rooms...    41.29125|19.85349   \n",
      "\n",
      "         PhoneNumber  PinCode  \\\n",
      "0    00355 4226 5009     1000   \n",
      "1       +35548520057     1041   \n",
      "2  00355 (0)42273766     1019   \n",
      "3                NaN     1001   \n",
      "4     355 69 5406986     1000   \n",
      "\n",
      "                                     HotelWebsiteUrl  \n",
      "0     https://www.booking.com/hotel/al/de-paris.html  \n",
      "1  https://www.booking.com/hotel/al/hotel-green.html  \n",
      "2     https://www.booking.com/hotel/al/theranda.html  \n",
      "3                  http://www.hotelseven-tirana.com/  \n",
      "4  https://www.booking.com/hotel/al/viktoria-sauk...  \n",
      "1010033\n"
     ]
    }
   ],
   "source": [
    "print(df.head())\n",
    "print(len(df))"
   ]
  },
  {
   "cell_type": "code",
   "execution_count": 3,
   "metadata": {},
   "outputs": [],
   "source": [
    "\n",
    "input_file_path = \"/Users/woohyeok/development/LLM_bootcamp/day4/HPC_accommodation_recommender/hotels.csv\"\n",
    "output_file_path = \"/Users/woohyeok/development/LLM_bootcamp/day4/HPC_accommodation_recommender/hotels_small.csv\"\n",
    "    \n",
    "df_small = df.head(10000)\n",
    "df_small.to_csv(output_file_path, index=False)"
   ]
  },
  {
   "cell_type": "code",
   "execution_count": 5,
   "metadata": {},
   "outputs": [
    {
     "data": {
      "text/plain": [
       "Index(['countyCode', ' countyName', ' cityCode', ' cityName', ' HotelCode',\n",
       "       ' HotelName', ' HotelRating', ' Address', ' Attractions',\n",
       "       ' Description', ' FaxNumber', ' HotelFacilities', ' Map',\n",
       "       ' PhoneNumber', ' PinCode', ' HotelWebsiteUrl'],\n",
       "      dtype='object')"
      ]
     },
     "execution_count": 5,
     "metadata": {},
     "output_type": "execute_result"
    }
   ],
   "source": [
    "df_small.keys()"
   ]
  }
 ],
 "metadata": {
  "kernelspec": {
   "display_name": "llm_bootcamp",
   "language": "python",
   "name": "python3"
  },
  "language_info": {
   "codemirror_mode": {
    "name": "ipython",
    "version": 3
   },
   "file_extension": ".py",
   "mimetype": "text/x-python",
   "name": "python",
   "nbconvert_exporter": "python",
   "pygments_lexer": "ipython3",
   "version": "3.12.2"
  }
 },
 "nbformat": 4,
 "nbformat_minor": 2
}
